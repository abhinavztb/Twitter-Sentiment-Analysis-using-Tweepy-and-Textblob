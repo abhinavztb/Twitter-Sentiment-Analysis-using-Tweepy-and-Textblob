{
 "cells": [
  {
   "cell_type": "code",
   "execution_count": 2,
   "metadata": {},
   "outputs": [],
   "source": [
    "import tweepy\n",
    "from textblob import TextBlob\n",
    "import re"
   ]
  },
  {
   "cell_type": "code",
   "execution_count": 3,
   "metadata": {},
   "outputs": [],
   "source": [
    "consumer_key='LZSLwoMlEuau0JYoeVUhEBeXV'\n",
    "consumer_secret='iauJUArzLQHrwmtYBOflIHBbYNbpUnnXkHlNnKk19PFrJ5Ky4A'\n",
    "access_token='1010962639239778304-mdAqOYAWYrB8xdd6UhGV4bccfQrYg0'\n",
    "access_token_secret='uUKqUUzbHrjiUQJywyzx3bAZyg3zo3eecMis4q9CXIuWE'"
   ]
  },
  {
   "cell_type": "code",
   "execution_count": 4,
   "metadata": {},
   "outputs": [],
   "source": [
    "auth=tweepy.OAuthHandler(consumer_key,consumer_secret)\n",
    "auth.set_access_token(access_token,access_token_secret)"
   ]
  },
  {
   "cell_type": "code",
   "execution_count": 5,
   "metadata": {},
   "outputs": [],
   "source": [
    "api=tweepy.API(auth)"
   ]
  },
  {
   "cell_type": "code",
   "execution_count": 23,
   "metadata": {},
   "outputs": [
    {
     "name": "stdout",
     "output_type": "stream",
     "text": [
      "                             Positive Fact                       \n",
      "----------------------------POLARITY FACTOR :1.0--------------------------\n",
      "\n"
     ]
    }
   ],
   "source": [
    "dialouge='Race3 is the best movie ever'\n",
    "a1=TextBlob(dialouge)\n",
    "num=a1.sentiment.polarity\n",
    "if num > 0 :\n",
    "        print(\"                             Positive Fact                       \")\n",
    "        print(\"----------------------------POLARITY FACTOR :\"+str(num)+\"--------------------------\\n\")\n",
    "if num == 0 :\n",
    "        print(\"                              Neutral Fact                        \")\n",
    "        print(\"----------------------------POLARITY FACTOR :\"+str(num)+\"--------------------------\\n\")\n",
    "if num < 0 :\n",
    "        print(\"                              Negative Fact                        \")\n",
    "        print(\"----------------------------POLARITY FACTOR :\"+str(num)+\"--------------------------\\n\")\n"
   ]
  },
  {
   "cell_type": "code",
   "execution_count": 21,
   "metadata": {},
   "outputs": [
    {
     "name": "stdout",
     "output_type": "stream",
     "text": [
      "Enter a Topic To search :#PriyankaChopra\n",
      "                      Twitter News with Sentiment Analysis on topic : #PriyankaChopra             \n",
      "    \n",
      "--------------------------TWEET NO. =1------------------------------------\n",
      "RT @iambaconivy: Hi! Just hear to say I love you and you inspire me everyday .This is something I don't come up with cause I think it's a b…\n",
      "                             Positive Fact                       \n",
      "----------------------------POLARITY FACTOR :0.15--------------------------\n",
      "\n",
      "--------------------------TWEET NO. =2------------------------------------\n",
      "RT @iambaconivy: Hi! Just hear to say I love you and you inspire me everyday .This is something I don't come up with cause I think it's a b…\n",
      "                             Positive Fact                       \n",
      "----------------------------POLARITY FACTOR :0.15--------------------------\n",
      "\n",
      "--------------------------TWEET NO. =3------------------------------------\n",
      "The exquisite @Asli_Jacqueline poses in an elegant dress! https://t.co/q3VHRMgqLn #bollywood #Wallpaper\n",
      " For More:… https://t.co/wnv59xxChY\n",
      "                             Positive Fact                       \n",
      "----------------------------POLARITY FACTOR :0.8125--------------------------\n",
      "\n",
      "--------------------------TWEET NO. =4------------------------------------\n",
      "अभिषेक नहीं अब यह एक्टर बनेंगे प्रियंका के हसबैंड https://t.co/wViN8K7F6u via @#\n",
      "\n",
      "#AbhishekBachchan #PriyankaChopra #FarhanAkhtar\n",
      "                              Neutral Fact                        \n",
      "----------------------------POLARITY FACTOR :0.0--------------------------\n",
      "\n",
      "--------------------------TWEET NO. =5------------------------------------\n",
      "How would Priyanka Chopra Call her Boyfriend in her Home Country?\n",
      "\n",
      "- Indiana Jonas\n",
      "#NickJonas #PriyankaChopra #India\n",
      "                              Neutral Fact                        \n",
      "----------------------------POLARITY FACTOR :0.0--------------------------\n",
      "\n",
      "--------------------------TWEET NO. =6------------------------------------\n",
      "Priyanka Chopra And Farhan Akhtar Will Be Starring Together\n",
      "\n",
      "Click here to Continue  👇\n",
      "https://t.co/5KMSK8Jilz… https://t.co/x1MDGp33Io\n",
      "                              Neutral Fact                        \n",
      "----------------------------POLARITY FACTOR :0.0--------------------------\n",
      "\n",
      "--------------------------TWEET NO. =7------------------------------------\n",
      "RT @dnaAfterHrs: #RanveerSingh 's 'Mohawk' look gets a thumbs-up from #PriyankaChopra, Arjun Kapoor but #DeepikaPadukone disapproves - See…\n",
      "                              Neutral Fact                        \n",
      "----------------------------POLARITY FACTOR :0.0--------------------------\n",
      "\n",
      "--------------------------TWEET NO. =8------------------------------------\n",
      "Hahaha!! #PriyankaChopra https://t.co/xICrAdy5PL\n",
      "                             Positive Fact                       \n",
      "----------------------------POLARITY FACTOR :0.3125--------------------------\n",
      "\n",
      "--------------------------TWEET NO. =9------------------------------------\n",
      "RT @BollySpy: After #Race3, #SalmanKhan's #Bharat Shoot Begins | #SalmanKhan #PriyankaChopra \n",
      " \n",
      "@aliabbaszafar @BeingSalmanKhan @atulreelli…\n",
      "                              Neutral Fact                        \n",
      "----------------------------POLARITY FACTOR :0.0--------------------------\n",
      "\n",
      "--------------------------TWEET NO. =10------------------------------------\n",
      "RT @BollySpy: After #Race3, #SalmanKhan's #Bharat Shoot Begins | #SalmanKhan #PriyankaChopra \n",
      " \n",
      "@aliabbaszafar @BeingSalmanKhan @atulreelli…\n",
      "                              Neutral Fact                        \n",
      "----------------------------POLARITY FACTOR :0.0--------------------------\n",
      "\n",
      "--------------------------TWEET NO. =11------------------------------------\n",
      "RT @RSfangirl: only Love for this woman!!! @priyankachopra #PriyankaChopra\n",
      "                             Positive Fact                       \n",
      "----------------------------POLARITY FACTOR :0.48828125--------------------------\n",
      "\n",
      "11\n"
     ]
    },
    {
     "data": {
      "text/plain": [
       "0.48828125"
      ]
     },
     "execution_count": 21,
     "metadata": {},
     "output_type": "execute_result"
    }
   ],
   "source": [
    "sub=raw_input('Enter a Topic To search :')\n",
    "public_tweets=api.search(sub)\n",
    "count=0\n",
    "print(\"                      Twitter News with Sentiment Analysis on topic : \"+sub+\"             \\n    \")\n",
    "for tweet in public_tweets:\n",
    "   \n",
    "    count=count+1\n",
    "    totresp=0\n",
    "    analyse=TextBlob(tweet.text)\n",
    "    num=analyse.sentiment.polarity\n",
    "    totresp+=num\n",
    "    print(\"--------------------------TWEET NO. =\"+str(count)+\"------------------------------------\")\n",
    "   \n",
    "    print(tweet.text)\n",
    "    \n",
    "    if num > 0 :\n",
    "        print(\"                             Positive Fact                       \")\n",
    "        print(\"----------------------------POLARITY FACTOR :\"+str(num)+\"--------------------------\\n\")\n",
    "    if num == 0 :\n",
    "        print(\"                              Neutral Fact                        \")\n",
    "        print(\"----------------------------POLARITY FACTOR :\"+str(num)+\"--------------------------\\n\")\n",
    "    if num < 0 :\n",
    "        print(\"                              Negative Fact                        \")\n",
    "        print(\"----------------------------POLARITY FACTOR :\"+str(num)+\"--------------------------\\n\")\n",
    "print(count)\n",
    "totresp"
   ]
  },
  {
   "cell_type": "code",
   "execution_count": null,
   "metadata": {},
   "outputs": [],
   "source": [
    "  "
   ]
  },
  {
   "cell_type": "code",
   "execution_count": null,
   "metadata": {},
   "outputs": [],
   "source": []
  },
  {
   "cell_type": "code",
   "execution_count": null,
   "metadata": {},
   "outputs": [],
   "source": []
  },
  {
   "cell_type": "code",
   "execution_count": null,
   "metadata": {},
   "outputs": [],
   "source": []
  },
  {
   "cell_type": "code",
   "execution_count": null,
   "metadata": {},
   "outputs": [],
   "source": []
  },
  {
   "cell_type": "code",
   "execution_count": null,
   "metadata": {},
   "outputs": [],
   "source": []
  }
 ],
 "metadata": {
  "kernelspec": {
   "display_name": "Python 2",
   "language": "python",
   "name": "python2"
  },
  "language_info": {
   "codemirror_mode": {
    "name": "ipython",
    "version": 2
   },
   "file_extension": ".py",
   "mimetype": "text/x-python",
   "name": "python",
   "nbconvert_exporter": "python",
   "pygments_lexer": "ipython2",
   "version": "2.7.15"
  }
 },
 "nbformat": 4,
 "nbformat_minor": 2
}
